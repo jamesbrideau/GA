{
 "cells": [
  {
   "cell_type": "markdown",
   "metadata": {},
   "source": []
  },
  {
   "cell_type": "markdown",
   "metadata": {},
   "source": [
    "# Project 1 - Iowa Liquor \n",
    "\n",
    "You are a data scientist in residence at the Iowa State tax board. The Iowa State legislature is considering changes in the liquor tax rates and wants a report of current liquor sales by county and projections for the rest of the year. \n",
    "\n",
    "Your task is as follows:\n",
    "\n",
    "* Calculate the yearly liquor sales for each store using the provided data. You can add up the transactions for each year, and store sales in 2015 specifically will be used later as your target variable.\n",
    "* Use the data from 2015 to make a linear model using as many variables as you find useful to predict the yearly sales of all stores. You must use the sales from Jan to March as one of your variables.\n",
    "* Use your model for 2015 to estimate total sales in 2016, extrapolating from the sales so far for Jan-March of 2016.\n",
    "* Report your findings, including any projected increase or decrease in total sales (over the entire state) for the tax committee of the Iowa legislature.\n",
    "* Use cross-validation to check how your model predicts to held out data compared to the model metrics on the full dataset.\n",
    "* Fit your model(s) using one or both of the regularization tactics covered. Explain whether the regularized or the non-regularized model performed better and what the selected regression(s) are doing.\n",
    "\n",
    "\n",
    "\n",
    "# Part 2\n",
    "\n",
    "### Feature Engineering, Model Building, and Tuning\n",
    "\n",
    "In Part 2 of this two-part project, you will use the insights gained from your Exploratory Data Analysis (EDA) to build a linear regression model predicting end-of-year total sales using Q1 data. You will use 2015 data to train and tune your model, then make final predictions using Q1 2016 data to make your best estimates for end of year 2016!\n",
    "\n",
    "### Requirements:\n",
    "\n",
    "\n",
    "**Mine the data**\n",
    "- Create necessary derived columns from the data\n",
    "- Format, clean, slice, and combine the data in Python\n",
    "\n",
    "**Build a data model**\n",
    "- Complete linear regressions using scikit-learn or statsmodels and interpret your findings\n",
    "- Calculate and plot predicted probabilities and/or present tables of results\n",
    "- Describe the bias-variance tradeoff of your model and errors metrics\n",
    "- Evaluate model fit by using loss functions, including mean absolute error, mean squared error, and root mean squared error, or r-squared\n",
    "\n",
    "**Present the results**\n",
    "- Create a Jupyter Notebook hosted on GitHub that provides a dataset overview with visualizations, statistical analysis, data cleaning methodologies, and models\n",
    "- Create a write-up on the interpretation of findings including an executive summary with conclusions and next steps\n",
    "\n",
    "***Bonus!:***\n",
    "- Handle outliers, use regularization (Ridge & Lasso regressions)\n",
    "- Brainstorm ways to improve your analysis; for example:\n",
    " - Add additional breakdowns and models, e.g. by month.\n",
    " - Recommend additional data that might improve your models\n",
    " - Can you think of other uses for the dataset? E.g healthcare / disease estimates"
   ]
  },
  {
   "cell_type": "code",
   "execution_count": 1,
   "metadata": {},
   "outputs": [
    {
     "data": {
      "text/plain": [
       "True"
      ]
     },
     "execution_count": 1,
     "metadata": {},
     "output_type": "execute_result"
    }
   ],
   "source": [
    "import os\n",
    "\n",
    "os.path.isfile('../Assets/Iowa_Liquor_sample.csv') "
   ]
  },
  {
   "cell_type": "code",
   "execution_count": 2,
   "metadata": {
    "collapsed": true
   },
   "outputs": [],
   "source": [
    "import pandas as pd\n",
    "import matplotlib.pyplot as plt\n",
    "\n",
    "%matplotlib inline"
   ]
  },
  {
   "cell_type": "markdown",
   "metadata": {},
   "source": [
    "## Import and Clean data:\n",
    "\n",
    "This time, we've cleaned the data set and column names for you; however we have not touched missing values."
   ]
  },
  {
   "cell_type": "code",
   "execution_count": 3,
   "metadata": {
    "collapsed": true
   },
   "outputs": [],
   "source": [
    "# Import, convert 'Date' col to datetime\n",
    "liquor=pd.read_csv('../Assets/Iowa_Liquor_sample.csv',parse_dates=['Date'],infer_datetime_format=True)"
   ]
  },
  {
   "cell_type": "code",
   "execution_count": 4,
   "metadata": {
    "collapsed": true
   },
   "outputs": [],
   "source": [
    "# format column names\n",
    "import re\n",
    "\n",
    "liquor.columns = [re.sub(\"[^a-zA-Z]+\", \"\", x) for x in liquor.columns]"
   ]
  },
  {
   "cell_type": "code",
   "execution_count": 5,
   "metadata": {
    "collapsed": true
   },
   "outputs": [],
   "source": [
    "# remove '$' in values and convert to numeric\n",
    "adjust_cols = ['StateBottleCost','StateBottleRetail','SaleDollars']\n",
    "\n",
    "for col in adjust_cols:\n",
    "    liquor[col] = pd.to_numeric(liquor[col].str.replace('$',''),errors='coerce')"
   ]
  },
  {
   "cell_type": "markdown",
   "metadata": {},
   "source": [
    "### Null Values\n",
    "\n",
    "Handle null values as you see fit"
   ]
  },
  {
   "cell_type": "markdown",
   "metadata": {},
   "source": [
    "I'm just going to drop all the null values for a couple of reasons. First, the columns with the most null values are County and CountyNumber which I am not going to use in my features anyways. Second, I may not be able to trust any of the data in the rows with null values. I'm not too worried about throwing off my model much by doing this, because even though it eliminates some stores entirely, it is only a little over 1,000 rows in a 270,000 row file."
   ]
  },
  {
   "cell_type": "code",
   "execution_count": 6,
   "metadata": {},
   "outputs": [
    {
     "data": {
      "text/plain": [
       "(269258, 18)"
      ]
     },
     "execution_count": 6,
     "metadata": {},
     "output_type": "execute_result"
    }
   ],
   "source": [
    "# drop nulls\n",
    "liquor = liquor.dropna()\n",
    "liquor.shape"
   ]
  },
  {
   "cell_type": "code",
   "execution_count": 7,
   "metadata": {},
   "outputs": [
    {
     "data": {
      "text/plain": [
       "Date                 0\n",
       "StoreNumber          0\n",
       "City                 0\n",
       "ZipCode              0\n",
       "CountyNumber         0\n",
       "County               0\n",
       "Category             0\n",
       "CategoryName         0\n",
       "VendorNumber         0\n",
       "ItemNumber           0\n",
       "ItemDescription      0\n",
       "BottleVolumeml       0\n",
       "StateBottleCost      0\n",
       "StateBottleRetail    0\n",
       "BottlesSold          0\n",
       "SaleDollars          0\n",
       "VolumeSoldLiters     0\n",
       "VolumeSoldGallons    0\n",
       "dtype: int64"
      ]
     },
     "execution_count": 7,
     "metadata": {},
     "output_type": "execute_result"
    }
   ],
   "source": [
    "liquor.isnull().sum()"
   ]
  },
  {
   "cell_type": "markdown",
   "metadata": {
    "collapsed": true
   },
   "source": [
    "## Split Data to Create a features and targets\n",
    "\n",
    "The goal of this project is to predict **total year-end 2015 sales for each store** using **first-quarter 2015 data**\n",
    "\n",
    "Our data is currently formatted as total purchases for each product per day per store for every day in the year. We will need to group our data by store when we perform our aggregations.\n",
    "\n",
    "In order to accomplish our goal, we need two sets of data:\n",
    "* Total full-year  sales for each store in 2015 (our target / y)\n",
    "* Data from Q1 2015 (will become our features / X)\n",
    "\n",
    "Create two dataframes, 'liquor2015_fy' and 'liquor2015_q1'\n",
    "\n",
    "'liquor2015_fy' should contain only store numbers and the full year sales for that store\n",
    "\n",
    "'liquor2015_q1' should contain all your features, but only for Q1\n"
   ]
  },
  {
   "cell_type": "code",
   "execution_count": 15,
   "metadata": {},
   "outputs": [
    {
     "data": {
      "text/plain": [
       "(218348, 18)"
      ]
     },
     "execution_count": 15,
     "metadata": {},
     "output_type": "execute_result"
    }
   ],
   "source": [
    "liquor[liquor.Date.dt.year == 2015].shape"
   ]
  },
  {
   "cell_type": "code",
   "execution_count": 87,
   "metadata": {},
   "outputs": [],
   "source": [
    "# Filter to only 2015:\n",
    "# hint: liquor.Date.dt._______\n",
    "\n",
    "liquor2015 = liquor[liquor.Date.dt.year == 2015]"
   ]
  },
  {
   "cell_type": "code",
   "execution_count": 95,
   "metadata": {
    "collapsed": true
   },
   "outputs": [],
   "source": [
    "# Calculate the sum of sales for each store in 2015 by grouping the full year data\n",
    "# hint: what columns do you need? what is your aggregating function? \n",
    "Total2015 = liquor2015.groupby('StoreNumber').SaleDollars.sum()\n",
    "liquor2015_fy = Total2015.to_frame('Target')"
   ]
  },
  {
   "cell_type": "code",
   "execution_count": null,
   "metadata": {},
   "outputs": [],
   "source": []
  },
  {
   "cell_type": "code",
   "execution_count": null,
   "metadata": {
    "collapsed": true
   },
   "outputs": [],
   "source": [
    "# Filter to just Q1 data: \n",
    "# hint: df[df.Date.dt.___ == __]"
   ]
  },
  {
   "cell_type": "code",
   "execution_count": 28,
   "metadata": {
    "collapsed": true
   },
   "outputs": [],
   "source": [
    "liquor2015_q1 = liquor2015[liquor2015.Date.dt.quarter == 1]"
   ]
  },
  {
   "cell_type": "markdown",
   "metadata": {},
   "source": [
    "# Feature Engineering\n",
    "\n",
    "Using the insight your gained into your dataset while perfomorming *exploratory data analysis* in Part 1 of the project, aggregate the liquor2015_q1 data frame to create cross-sectional features from our longitudinal data.\n",
    "\n",
    "\n",
    "[Aggregation functions in pandas](https://pandas.pydata.org/pandas-docs/stable/generated/pandas.core.groupby.DataFrameGroupBy.agg.html)\n",
    "\n",
    "In addition to aggregation, you may chose to create columns to more advanced measures of the data, such as sales for a particular product or category, measures of profitbility, daily or weekly sales statistics, etc.\n",
    "\n",
    "Combine your aggregations and other engineered features into a dataframe called 'liquor2015_q1_features'\n",
    "\n",
    "*At a minimum, you will need to aggreate your features by Store in order to procede*\n",
    "\n"
   ]
  },
  {
   "cell_type": "code",
   "execution_count": 72,
   "metadata": {
    "collapsed": true
   },
   "outputs": [
    {
     "data": {
      "text/plain": [
       "StoreNumber\n",
       "2106    39287.29\n",
       "2113     2833.25\n",
       "2130    24272.57\n",
       "2152     2003.46\n",
       "2178     5856.41\n",
       "2190    29452.92\n",
       "2191    29085.57\n",
       "2200     4900.43\n",
       "2205     6407.74\n",
       "2228     5193.97\n",
       "2233     5374.55\n",
       "2238      858.61\n",
       "2248    12663.68\n",
       "2285    10019.12\n",
       "2290    12085.15\n",
       "2327     2253.60\n",
       "2353    17382.60\n",
       "2367     2023.44\n",
       "2413    22459.16\n",
       "2445     1215.08\n",
       "2448     5655.92\n",
       "2459     1609.57\n",
       "2460     6746.61\n",
       "2465     5615.99\n",
       "2475     5672.76\n",
       "2478     4459.85\n",
       "2487     7256.60\n",
       "2498      279.22\n",
       "2500    40234.90\n",
       "2501    31412.95\n",
       "          ...   \n",
       "5086      810.60\n",
       "5088      479.16\n",
       "5089      884.03\n",
       "5090     2193.89\n",
       "5091      523.82\n",
       "5092     1815.54\n",
       "5093     2430.57\n",
       "5094      511.86\n",
       "5096     2040.42\n",
       "5097     3160.02\n",
       "5098     1360.74\n",
       "5099     1250.49\n",
       "5100     2180.76\n",
       "5101     1701.47\n",
       "5102    27695.76\n",
       "5103       42.76\n",
       "5104     1555.83\n",
       "5105     2708.56\n",
       "5106     2691.84\n",
       "5108      999.95\n",
       "5112      803.56\n",
       "5113     2427.84\n",
       "5114      406.02\n",
       "5115      601.02\n",
       "5116     1406.57\n",
       "5119      112.50\n",
       "5128      477.00\n",
       "9001     2341.08\n",
       "9002     4865.16\n",
       "9010     3861.60\n",
       "Name: SaleDollars, Length: 1261, dtype: float64"
      ]
     },
     "execution_count": 72,
     "metadata": {},
     "output_type": "execute_result"
    }
   ],
   "source": [
    "q1_store_sales = liquor2015_q1.groupby('StoreNumber').SaleDollars.sum()"
   ]
  },
  {
   "cell_type": "code",
   "execution_count": 48,
   "metadata": {},
   "outputs": [],
   "source": [
    "q1_bottle_volume = liquor2015_q1.groupby('StoreNumber').VolumeSoldLiters.sum()"
   ]
  },
  {
   "cell_type": "code",
   "execution_count": 49,
   "metadata": {
    "collapsed": true
   },
   "outputs": [],
   "source": [
    "q1_bottles_sold = liquor2015_q1.groupby('StoreNumber').BottlesSold.sum()"
   ]
  },
  {
   "cell_type": "code",
   "execution_count": 54,
   "metadata": {},
   "outputs": [
    {
     "data": {
      "text/html": [
       "<div>\n",
       "<style>\n",
       "    .dataframe thead tr:only-child th {\n",
       "        text-align: right;\n",
       "    }\n",
       "\n",
       "    .dataframe thead th {\n",
       "        text-align: left;\n",
       "    }\n",
       "\n",
       "    .dataframe tbody tr th {\n",
       "        vertical-align: top;\n",
       "    }\n",
       "</style>\n",
       "<table border=\"1\" class=\"dataframe\">\n",
       "  <thead>\n",
       "    <tr style=\"text-align: right;\">\n",
       "      <th></th>\n",
       "      <th>Date</th>\n",
       "      <th>StoreNumber</th>\n",
       "      <th>City</th>\n",
       "      <th>ZipCode</th>\n",
       "      <th>CountyNumber</th>\n",
       "      <th>County</th>\n",
       "      <th>Category</th>\n",
       "      <th>CategoryName</th>\n",
       "      <th>VendorNumber</th>\n",
       "      <th>ItemNumber</th>\n",
       "      <th>ItemDescription</th>\n",
       "      <th>BottleVolumeml</th>\n",
       "      <th>StateBottleCost</th>\n",
       "      <th>StateBottleRetail</th>\n",
       "      <th>BottlesSold</th>\n",
       "      <th>SaleDollars</th>\n",
       "      <th>VolumeSoldLiters</th>\n",
       "      <th>VolumeSoldGallons</th>\n",
       "    </tr>\n",
       "  </thead>\n",
       "  <tbody>\n",
       "    <tr>\n",
       "      <th>12</th>\n",
       "      <td>2015-01-22</td>\n",
       "      <td>3858</td>\n",
       "      <td>DAVENPORT</td>\n",
       "      <td>52806</td>\n",
       "      <td>82.0</td>\n",
       "      <td>Scott</td>\n",
       "      <td>1012100.0</td>\n",
       "      <td>CANADIAN WHISKIES</td>\n",
       "      <td>65</td>\n",
       "      <td>15248</td>\n",
       "      <td>Windsor Canadian Pet</td>\n",
       "      <td>1750</td>\n",
       "      <td>8.92</td>\n",
       "      <td>13.38</td>\n",
       "      <td>1</td>\n",
       "      <td>13.38</td>\n",
       "      <td>1.75</td>\n",
       "      <td>0.46</td>\n",
       "    </tr>\n",
       "    <tr>\n",
       "      <th>19</th>\n",
       "      <td>2015-03-04</td>\n",
       "      <td>2614</td>\n",
       "      <td>DAVENPORT</td>\n",
       "      <td>52807</td>\n",
       "      <td>82.0</td>\n",
       "      <td>Scott</td>\n",
       "      <td>1012100.0</td>\n",
       "      <td>CANADIAN WHISKIES</td>\n",
       "      <td>434</td>\n",
       "      <td>13638</td>\n",
       "      <td>Lord Calvert Canadian Whisky</td>\n",
       "      <td>1750</td>\n",
       "      <td>9.97</td>\n",
       "      <td>14.96</td>\n",
       "      <td>6</td>\n",
       "      <td>89.76</td>\n",
       "      <td>10.50</td>\n",
       "      <td>2.77</td>\n",
       "    </tr>\n",
       "    <tr>\n",
       "      <th>20</th>\n",
       "      <td>2015-01-16</td>\n",
       "      <td>2590</td>\n",
       "      <td>CEDAR RAPIDS</td>\n",
       "      <td>52402</td>\n",
       "      <td>57.0</td>\n",
       "      <td>Linn</td>\n",
       "      <td>1031200.0</td>\n",
       "      <td>VODKA FLAVORED</td>\n",
       "      <td>971</td>\n",
       "      <td>41474</td>\n",
       "      <td>44 North Huckleberry</td>\n",
       "      <td>750</td>\n",
       "      <td>14.25</td>\n",
       "      <td>21.38</td>\n",
       "      <td>2</td>\n",
       "      <td>42.76</td>\n",
       "      <td>1.50</td>\n",
       "      <td>0.40</td>\n",
       "    </tr>\n",
       "    <tr>\n",
       "      <th>21</th>\n",
       "      <td>2015-01-13</td>\n",
       "      <td>3942</td>\n",
       "      <td>TOLEDO</td>\n",
       "      <td>52342</td>\n",
       "      <td>86.0</td>\n",
       "      <td>Tama</td>\n",
       "      <td>1012100.0</td>\n",
       "      <td>CANADIAN WHISKIES</td>\n",
       "      <td>115</td>\n",
       "      <td>11786</td>\n",
       "      <td>Black Velvet Traveler</td>\n",
       "      <td>750</td>\n",
       "      <td>5.23</td>\n",
       "      <td>7.85</td>\n",
       "      <td>12</td>\n",
       "      <td>94.20</td>\n",
       "      <td>9.00</td>\n",
       "      <td>2.38</td>\n",
       "    </tr>\n",
       "    <tr>\n",
       "      <th>22</th>\n",
       "      <td>2015-03-24</td>\n",
       "      <td>3981</td>\n",
       "      <td>SIOUX CENTER</td>\n",
       "      <td>51250</td>\n",
       "      <td>84.0</td>\n",
       "      <td>Sioux</td>\n",
       "      <td>1011100.0</td>\n",
       "      <td>BLENDED WHISKIES</td>\n",
       "      <td>260</td>\n",
       "      <td>25606</td>\n",
       "      <td>Seagrams 7 Crown Bl Whiskey</td>\n",
       "      <td>750</td>\n",
       "      <td>7.00</td>\n",
       "      <td>10.50</td>\n",
       "      <td>12</td>\n",
       "      <td>126.00</td>\n",
       "      <td>9.00</td>\n",
       "      <td>2.38</td>\n",
       "    </tr>\n",
       "  </tbody>\n",
       "</table>\n",
       "</div>"
      ],
      "text/plain": [
       "         Date  StoreNumber          City ZipCode  CountyNumber County  \\\n",
       "12 2015-01-22         3858     DAVENPORT   52806          82.0  Scott   \n",
       "19 2015-03-04         2614     DAVENPORT   52807          82.0  Scott   \n",
       "20 2015-01-16         2590  CEDAR RAPIDS   52402          57.0   Linn   \n",
       "21 2015-01-13         3942        TOLEDO   52342          86.0   Tama   \n",
       "22 2015-03-24         3981  SIOUX CENTER   51250          84.0  Sioux   \n",
       "\n",
       "     Category       CategoryName  VendorNumber  ItemNumber  \\\n",
       "12  1012100.0  CANADIAN WHISKIES            65       15248   \n",
       "19  1012100.0  CANADIAN WHISKIES           434       13638   \n",
       "20  1031200.0     VODKA FLAVORED           971       41474   \n",
       "21  1012100.0  CANADIAN WHISKIES           115       11786   \n",
       "22  1011100.0   BLENDED WHISKIES           260       25606   \n",
       "\n",
       "                 ItemDescription  BottleVolumeml  StateBottleCost  \\\n",
       "12          Windsor Canadian Pet            1750             8.92   \n",
       "19  Lord Calvert Canadian Whisky            1750             9.97   \n",
       "20          44 North Huckleberry             750            14.25   \n",
       "21         Black Velvet Traveler             750             5.23   \n",
       "22   Seagrams 7 Crown Bl Whiskey             750             7.00   \n",
       "\n",
       "    StateBottleRetail  BottlesSold  SaleDollars  VolumeSoldLiters  \\\n",
       "12              13.38            1        13.38              1.75   \n",
       "19              14.96            6        89.76             10.50   \n",
       "20              21.38            2        42.76              1.50   \n",
       "21               7.85           12        94.20              9.00   \n",
       "22              10.50           12       126.00              9.00   \n",
       "\n",
       "    VolumeSoldGallons  \n",
       "12               0.46  \n",
       "19               2.77  \n",
       "20               0.40  \n",
       "21               2.38  \n",
       "22               2.38  "
      ]
     },
     "execution_count": 54,
     "metadata": {},
     "output_type": "execute_result"
    }
   ],
   "source": [
    "liquor2015_q1.head()"
   ]
  },
  {
   "cell_type": "code",
   "execution_count": 57,
   "metadata": {},
   "outputs": [],
   "source": [
    "# liquor2015_q1['Week'] = liquor2015_q1.Date.dt.week"
   ]
  },
  {
   "cell_type": "code",
   "execution_count": 50,
   "metadata": {},
   "outputs": [],
   "source": [
    "avg_bottle_price = liquor2015_q1.StateBottleRetail.mean()"
   ]
  },
  {
   "cell_type": "code",
   "execution_count": 83,
   "metadata": {},
   "outputs": [],
   "source": [
    "# Dataframe of your Q1 features\n",
    "liquor2015_q1_features = q1_store_sales.to_frame(name='TotalSales')"
   ]
  },
  {
   "cell_type": "code",
   "execution_count": 85,
   "metadata": {
    "collapsed": true
   },
   "outputs": [],
   "source": [
    "liquor2015_q1_features['BottlesSold'] = q1_bottles_sold\n",
    "liquor2015_q1_features['VolumeSold'] = q1_bottle_volume"
   ]
  },
  {
   "cell_type": "code",
   "execution_count": 82,
   "metadata": {},
   "outputs": [
    {
     "data": {
      "text/html": [
       "<div>\n",
       "<style>\n",
       "    .dataframe thead tr:only-child th {\n",
       "        text-align: right;\n",
       "    }\n",
       "\n",
       "    .dataframe thead th {\n",
       "        text-align: left;\n",
       "    }\n",
       "\n",
       "    .dataframe tbody tr th {\n",
       "        vertical-align: top;\n",
       "    }\n",
       "</style>\n",
       "<table border=\"1\" class=\"dataframe\">\n",
       "  <thead>\n",
       "    <tr style=\"text-align: right;\">\n",
       "      <th></th>\n",
       "      <th>TotalSales</th>\n",
       "      <th>BottlesSold</th>\n",
       "      <th>VolumeSold</th>\n",
       "    </tr>\n",
       "    <tr>\n",
       "      <th>StoreNumber</th>\n",
       "      <th></th>\n",
       "      <th></th>\n",
       "      <th></th>\n",
       "    </tr>\n",
       "  </thead>\n",
       "  <tbody>\n",
       "    <tr>\n",
       "      <th>2106</th>\n",
       "      <td>39287.29</td>\n",
       "      <td>2705</td>\n",
       "      <td>2526.10</td>\n",
       "    </tr>\n",
       "    <tr>\n",
       "      <th>2113</th>\n",
       "      <td>2833.25</td>\n",
       "      <td>196</td>\n",
       "      <td>177.11</td>\n",
       "    </tr>\n",
       "    <tr>\n",
       "      <th>2130</th>\n",
       "      <td>24272.57</td>\n",
       "      <td>1533</td>\n",
       "      <td>1447.25</td>\n",
       "    </tr>\n",
       "    <tr>\n",
       "      <th>2152</th>\n",
       "      <td>2003.46</td>\n",
       "      <td>154</td>\n",
       "      <td>151.74</td>\n",
       "    </tr>\n",
       "    <tr>\n",
       "      <th>2178</th>\n",
       "      <td>5856.41</td>\n",
       "      <td>490</td>\n",
       "      <td>409.81</td>\n",
       "    </tr>\n",
       "  </tbody>\n",
       "</table>\n",
       "</div>"
      ],
      "text/plain": [
       "             TotalSales BottlesSold  VolumeSold\n",
       "StoreNumber                                    \n",
       "2106           39287.29        2705     2526.10\n",
       "2113            2833.25         196      177.11\n",
       "2130           24272.57        1533     1447.25\n",
       "2152            2003.46         154      151.74\n",
       "2178            5856.41         490      409.81"
      ]
     },
     "execution_count": 82,
     "metadata": {},
     "output_type": "execute_result"
    }
   ],
   "source": [
    "liquor2015_q1_features.head()"
   ]
  },
  {
   "cell_type": "markdown",
   "metadata": {},
   "source": [
    "## Combine Q1 Features with Full Year Target\n",
    "\n",
    "Now that you've created a set of features using the Q1 data, we much combine it wil the full-year data so that our Xs (features) are matched up to their coresponding y's (targets).\n",
    "\n",
    "Pandas' 'merge' function allows us to combine two dataframes, using SQL-like joins.\n",
    "\n",
    "[Pandas Merge/Join Documentation](https://pandas.pydata.org/pandas-docs/stable/merging.html#database-style-dataframe-joining-merging)\n",
    "\n",
    "We will create a new dataframe, called 'liquor2015_combined' by merging our 'liquor2015_fy' and 'liquor2015_q1_features' dataframes on Store Number - giving us a dataframe which in each row has the Q1 features you've developed for each store, and the year-end total sales for that store.\n",
    "\n",
    "#### In pandas, merge can take two forms:\n",
    "\n",
    "pd.merge(left_dataframe,right_dataframe, \\*\\*args)\n",
    "\n",
    "*or*\n",
    "\n",
    "left_dataframe.merge(right_dataframe,\\*\\*args)\n",
    "\n",
    "Both of these return the merged dataframe. For arguments, you will need to chose which column(s) from your right and left dataframe you're merging on.\n",
    "\n",
    "Args:\n",
    "* left: your left-dataframe\n",
    "* right: your right-dataframe\n",
    "* on= : if your dataframes have a common column name that you're merging on, use this arg\n",
    "* left_on= / right_on= : if your dataframes do not have a common column name, you can specify the names\n",
    "* left_index= / right_index= : these are boolean (True/False) flags for whether to use the dataframe's index as the merging column.\n",
    "\n"
   ]
  },
  {
   "cell_type": "code",
   "execution_count": 99,
   "metadata": {},
   "outputs": [],
   "source": [
    "liquor2015_combined = pd.merge(liquor2015_q1_features, liquor2015_fy, left_index=True, right_index=True)"
   ]
  },
  {
   "cell_type": "code",
   "execution_count": 187,
   "metadata": {},
   "outputs": [
    {
     "data": {
      "text/html": [
       "<div>\n",
       "<style>\n",
       "    .dataframe thead tr:only-child th {\n",
       "        text-align: right;\n",
       "    }\n",
       "\n",
       "    .dataframe thead th {\n",
       "        text-align: left;\n",
       "    }\n",
       "\n",
       "    .dataframe tbody tr th {\n",
       "        vertical-align: top;\n",
       "    }\n",
       "</style>\n",
       "<table border=\"1\" class=\"dataframe\">\n",
       "  <thead>\n",
       "    <tr style=\"text-align: right;\">\n",
       "      <th></th>\n",
       "      <th>TotalSales</th>\n",
       "      <th>BottlesSold</th>\n",
       "      <th>VolumeSold</th>\n",
       "      <th>Target</th>\n",
       "    </tr>\n",
       "    <tr>\n",
       "      <th>StoreNumber</th>\n",
       "      <th></th>\n",
       "      <th></th>\n",
       "      <th></th>\n",
       "      <th></th>\n",
       "    </tr>\n",
       "  </thead>\n",
       "  <tbody>\n",
       "    <tr>\n",
       "      <th>2106</th>\n",
       "      <td>39287.29</td>\n",
       "      <td>2705</td>\n",
       "      <td>2526.10</td>\n",
       "      <td>146038.70</td>\n",
       "    </tr>\n",
       "    <tr>\n",
       "      <th>2113</th>\n",
       "      <td>2833.25</td>\n",
       "      <td>196</td>\n",
       "      <td>177.11</td>\n",
       "      <td>9310.22</td>\n",
       "    </tr>\n",
       "    <tr>\n",
       "      <th>2130</th>\n",
       "      <td>24272.57</td>\n",
       "      <td>1533</td>\n",
       "      <td>1447.25</td>\n",
       "      <td>111583.91</td>\n",
       "    </tr>\n",
       "    <tr>\n",
       "      <th>2152</th>\n",
       "      <td>2003.46</td>\n",
       "      <td>154</td>\n",
       "      <td>151.74</td>\n",
       "      <td>7721.08</td>\n",
       "    </tr>\n",
       "    <tr>\n",
       "      <th>2178</th>\n",
       "      <td>5856.41</td>\n",
       "      <td>490</td>\n",
       "      <td>409.81</td>\n",
       "      <td>24324.18</td>\n",
       "    </tr>\n",
       "  </tbody>\n",
       "</table>\n",
       "</div>"
      ],
      "text/plain": [
       "             TotalSales BottlesSold  VolumeSold     Target\n",
       "StoreNumber                                               \n",
       "2106           39287.29        2705     2526.10  146038.70\n",
       "2113            2833.25         196      177.11    9310.22\n",
       "2130           24272.57        1533     1447.25  111583.91\n",
       "2152            2003.46         154      151.74    7721.08\n",
       "2178            5856.41         490      409.81   24324.18"
      ]
     },
     "execution_count": 187,
     "metadata": {},
     "output_type": "execute_result"
    }
   ],
   "source": [
    "liquor2015_combined.head()"
   ]
  },
  {
   "cell_type": "code",
   "execution_count": null,
   "metadata": {
    "collapsed": true
   },
   "outputs": [],
   "source": []
  },
  {
   "cell_type": "markdown",
   "metadata": {},
   "source": [
    "## Cross Validation\n",
    "\n",
    "As we build our model, we will use cross-validation techniques to help navigate the bias/variance tradeoff, with a goal of producing the best model which will generalize to new data. \n",
    "\n",
    "![crossval](../Assets/validation.png)"
   ]
  },
  {
   "cell_type": "markdown",
   "metadata": {},
   "source": [
    "### Step 1: Hold Out / Testing Data\n",
    "\n",
    "In order to evaluate our final model performance, we will seperate out a small amount of data which will will not touch while train and test our model (labeled in red as \"Testing Data\" in the image above). "
   ]
  },
  {
   "cell_type": "code",
   "execution_count": 102,
   "metadata": {
    "collapsed": true
   },
   "outputs": [],
   "source": [
    "from sklearn.model_selection import train_test_split"
   ]
  },
  {
   "cell_type": "code",
   "execution_count": 103,
   "metadata": {
    "collapsed": true
   },
   "outputs": [],
   "source": [
    "training_data,holdout = train_test_split(liquor2015_combined,shuffle=True,test_size=0.10,random_state=123)"
   ]
  },
  {
   "cell_type": "markdown",
   "metadata": {},
   "source": [
    "### Step 2: Kfolds\n",
    "\n",
    "With our holdout set removed, we can set up **Kfolds** cross validation"
   ]
  },
  {
   "cell_type": "code",
   "execution_count": 105,
   "metadata": {},
   "outputs": [],
   "source": [
    "from sklearn.model_selection import KFold"
   ]
  },
  {
   "cell_type": "code",
   "execution_count": 106,
   "metadata": {
    "collapsed": true
   },
   "outputs": [],
   "source": [
    "# Number of folds you wish to train\n",
    "folds = 7\n",
    "\n",
    "# Number of rows in your dataframe\n",
    "n = training_data.shape[0]\n",
    "\n",
    "kf = KFold(n_splits=folds,random_state=123)"
   ]
  },
  {
   "cell_type": "markdown",
   "metadata": {},
   "source": [
    "# Model Building - Linear Regression\n",
    "\n",
    "With feature prepared and a cross-validation framework in place, train and tune a linear regressor to predict year-end sales using your q1 data"
   ]
  },
  {
   "cell_type": "code",
   "execution_count": 107,
   "metadata": {
    "collapsed": true
   },
   "outputs": [],
   "source": [
    "from sklearn.linear_model import LinearRegression\n",
    "from sklearn.metrics import mean_absolute_error,mean_squared_error,r2_score\n",
    "import numpy as np"
   ]
  },
  {
   "cell_type": "code",
   "execution_count": 160,
   "metadata": {
    "collapsed": true
   },
   "outputs": [],
   "source": [
    "#select your feature column names\n",
    "\n",
    "feature_cols = ['TotalSales','VolumeSold','BottlesSold']"
   ]
  },
  {
   "cell_type": "code",
   "execution_count": null,
   "metadata": {},
   "outputs": [],
   "source": []
  },
  {
   "cell_type": "code",
   "execution_count": 161,
   "metadata": {
    "collapsed": true
   },
   "outputs": [],
   "source": [
    "# define your X (features) and y (target)\n",
    "# hint - make sure your y is not in your X!\n",
    "\n",
    "X = training_data[feature_cols]\n",
    "y = training_data['Target']\n"
   ]
  },
  {
   "cell_type": "markdown",
   "metadata": {},
   "source": [
    "Instantiate your model"
   ]
  },
  {
   "cell_type": "code",
   "execution_count": 162,
   "metadata": {
    "collapsed": true
   },
   "outputs": [],
   "source": [
    "lr = LinearRegression()"
   ]
  },
  {
   "cell_type": "markdown",
   "metadata": {},
   "source": [
    "Use the kfolds iterator to **train** and **evaluate** your model, using Mean Squared Error (MSE) as your evluation metric"
   ]
  },
  {
   "cell_type": "code",
   "execution_count": 163,
   "metadata": {},
   "outputs": [],
   "source": [
    "# Create a blank list to store fold scores\n",
    "scores = []\n",
    "# Fill-in the kfolds-loop:\n",
    "\n",
    "for train,test in kf.split(X):\n",
    "    # Set up your training and testing sets\n",
    "    x_train = X.iloc[train]\n",
    "    x_test = X.iloc[test]\n",
    "    y_train = y.iloc[train]\n",
    "    y_true = y.iloc[test]\n",
    "    \n",
    "    # Fit your model on your training x and training y\n",
    "    lr.fit(x_train,y_train)\n",
    "    \n",
    "    # Make Predictions\n",
    "    y_preds = lr.predict(x_test)\n",
    "    \n",
    "    # Score your predictions vs. your true values using mean_squared_error\n",
    "    fold_score = mean_squared_error(y_true, y_preds)\n",
    "    \n",
    "    # Append your score \n",
    "    scores.append(fold_score)\n"
   ]
  },
  {
   "cell_type": "code",
   "execution_count": 164,
   "metadata": {
    "collapsed": true
   },
   "outputs": [],
   "source": [
    "# View your fold scores, and calculate the mean score across your folds\n",
    "# np.mean()"
   ]
  },
  {
   "cell_type": "code",
   "execution_count": 165,
   "metadata": {},
   "outputs": [
    {
     "data": {
      "text/plain": [
       "[65070114.520666689,\n",
       " 66087242.77469635,\n",
       " 65500766.708966009,\n",
       " 108197955.56544016,\n",
       " 190894353.25969371,\n",
       " 101804806.282245,\n",
       " 127558723.93848363]"
      ]
     },
     "execution_count": 165,
     "metadata": {},
     "output_type": "execute_result"
    }
   ],
   "source": [
    "scores"
   ]
  },
  {
   "cell_type": "code",
   "execution_count": 166,
   "metadata": {},
   "outputs": [
    {
     "data": {
      "text/plain": [
       "103587709.00717022"
      ]
     },
     "execution_count": 166,
     "metadata": {},
     "output_type": "execute_result"
    }
   ],
   "source": [
    "np.mean(scores)"
   ]
  },
  {
   "cell_type": "markdown",
   "metadata": {},
   "source": [
    "### Coefficients and Intercept\n",
    "\n",
    "View the coefficients of your model - what do the coefficients tell you about the relationships between your features and your target?"
   ]
  },
  {
   "cell_type": "code",
   "execution_count": 119,
   "metadata": {},
   "outputs": [
    {
     "data": {
      "text/plain": [
       "[('TotalSales', 5.4060729000315142),\n",
       " ('BottlesSold', 5.3083234997544828),\n",
       " ('VolumeSold', -19.434391655920706)]"
      ]
     },
     "execution_count": 119,
     "metadata": {},
     "output_type": "execute_result"
    }
   ],
   "source": [
    "list(zip(feature_cols,lr.coef_))"
   ]
  },
  {
   "cell_type": "code",
   "execution_count": 121,
   "metadata": {
    "collapsed": true
   },
   "outputs": [],
   "source": [
    "# These coefficients give me the impact on total 2015 sales that results from changes in either of the three features columns"
   ]
  },
  {
   "cell_type": "code",
   "execution_count": 120,
   "metadata": {},
   "outputs": [
    {
     "data": {
      "text/plain": [
       "628.82262236201859"
      ]
     },
     "execution_count": 120,
     "metadata": {},
     "output_type": "execute_result"
    }
   ],
   "source": [
    "lr.intercept_"
   ]
  },
  {
   "cell_type": "code",
   "execution_count": 122,
   "metadata": {
    "collapsed": true
   },
   "outputs": [],
   "source": [
    "# The intercept tells me that assuming all the feature values were zero, the SaleDollars for the store would be $628"
   ]
  },
  {
   "cell_type": "markdown",
   "metadata": {},
   "source": [
    "### Tuning Your Model\n",
    "\n",
    "So far, you've trained a basic linear model and evaluated it using Mean Squared Error. Use the same process as above to evaluate your model using: Mean Absolute Error (MAE), Root Mean Squared Error (RMSE) and calculate the R2 score of your predictions.\n",
    "\n",
    "Try some of the parameters available for your linear model, and different sets of features to find a model that you feel will **perform best on new, out of sample data**"
   ]
  },
  {
   "cell_type": "code",
   "execution_count": 175,
   "metadata": {
    "collapsed": true
   },
   "outputs": [],
   "source": [
    "feature_cols_new = ['TotalSales','BottlesSold']"
   ]
  },
  {
   "cell_type": "code",
   "execution_count": 176,
   "metadata": {
    "collapsed": true
   },
   "outputs": [],
   "source": [
    "X = training_data[feature_cols_new]"
   ]
  },
  {
   "cell_type": "code",
   "execution_count": 177,
   "metadata": {
    "collapsed": true
   },
   "outputs": [],
   "source": [
    "# Use K-Folds cross validation to train your model\n",
    "# Evaluate your model using MAE, MSE, RMSE and R2 "
   ]
  },
  {
   "cell_type": "code",
   "execution_count": 178,
   "metadata": {
    "collapsed": true
   },
   "outputs": [],
   "source": [
    "# Create a blank list to store fold scores\n",
    "scores = []\n",
    "# Fill-in the kfolds-loop:\n",
    "\n",
    "for train,test in kf.split(X):\n",
    "    # Set up your training and testing sets\n",
    "    x_train = X.iloc[train]\n",
    "    x_test = X.iloc[test]\n",
    "    y_train = y.iloc[train]\n",
    "    y_true = y.iloc[test]\n",
    "    \n",
    "    # Fit your model on your training x and training y\n",
    "    lr.fit(x_train,y_train)\n",
    "    \n",
    "    # Make Predictions\n",
    "    y_preds = lr.predict(x_test)\n",
    "    \n",
    "    # Score your predictions vs. your true values using mean_squared_error\n",
    "    fold_score = mean_absolute_error(y_true, y_preds)\n",
    "    \n",
    "    # Append your score \n",
    "    scores.append(fold_score)\n"
   ]
  },
  {
   "cell_type": "code",
   "execution_count": 179,
   "metadata": {},
   "outputs": [
    {
     "name": "stdout",
     "output_type": "stream",
     "text": [
      "MAE:\n"
     ]
    },
    {
     "data": {
      "text/plain": [
       "[4038.1718128365487,\n",
       " 4135.0178932885574,\n",
       " 3966.6250666676156,\n",
       " 4817.4969538439218,\n",
       " 5582.7098166390097,\n",
       " 4606.6384383780751,\n",
       " 5540.2453435445786]"
      ]
     },
     "execution_count": 179,
     "metadata": {},
     "output_type": "execute_result"
    }
   ],
   "source": [
    "print('MAE:')\n",
    "scores"
   ]
  },
  {
   "cell_type": "code",
   "execution_count": 180,
   "metadata": {
    "collapsed": true
   },
   "outputs": [],
   "source": [
    "# Create a blank list to store fold scores\n",
    "scores = []\n",
    "# Fill-in the kfolds-loop:\n",
    "\n",
    "for train,test in kf.split(X):\n",
    "    # Set up your training and testing sets\n",
    "    x_train = X.iloc[train]\n",
    "    x_test = X.iloc[test]\n",
    "    y_train = y.iloc[train]\n",
    "    y_true = y.iloc[test]\n",
    "    \n",
    "    # Fit your model on your training x and training y\n",
    "    lr.fit(x_train,y_train)\n",
    "    \n",
    "    # Make Predictions\n",
    "    y_preds = lr.predict(x_test)\n",
    "    \n",
    "    # Score your predictions vs. your true values using mean_squared_error\n",
    "    fold_score = np.sqrt(mean_squared_error(y_true, y_preds))\n",
    "    \n",
    "    # Append your score \n",
    "    scores.append(fold_score)\n"
   ]
  },
  {
   "cell_type": "code",
   "execution_count": 181,
   "metadata": {},
   "outputs": [
    {
     "name": "stdout",
     "output_type": "stream",
     "text": [
      "RMSE\n"
     ]
    },
    {
     "data": {
      "text/plain": [
       "[8214.4967638525086,\n",
       " 8710.0636894687941,\n",
       " 8688.7973039158642,\n",
       " 10483.595685453547,\n",
       " 14165.122347154042,\n",
       " 10055.759760576897,\n",
       " 10949.526077278142]"
      ]
     },
     "execution_count": 181,
     "metadata": {},
     "output_type": "execute_result"
    }
   ],
   "source": [
    "print('RMSE')\n",
    "scores"
   ]
  },
  {
   "cell_type": "code",
   "execution_count": 182,
   "metadata": {
    "collapsed": true
   },
   "outputs": [],
   "source": [
    "# Create a blank list to store fold scores\n",
    "scores = []\n",
    "# Fill-in the kfolds-loop:\n",
    "\n",
    "for train,test in kf.split(X):\n",
    "    # Set up your training and testing sets\n",
    "    x_train = X.iloc[train]\n",
    "    x_test = X.iloc[test]\n",
    "    y_train = y.iloc[train]\n",
    "    y_true = y.iloc[test]\n",
    "    \n",
    "    # Fit your model on your training x and training y\n",
    "    lr.fit(x_train,y_train)\n",
    "    \n",
    "    # Make Predictions\n",
    "    y_preds = lr.predict(x_test)\n",
    "    \n",
    "    # Score your predictions vs. your true values using mean_squared_error\n",
    "    fold_score = r2_score(y_true, y_preds)\n",
    "    \n",
    "    # Append your score \n",
    "    scores.append(fold_score)\n"
   ]
  },
  {
   "cell_type": "code",
   "execution_count": 183,
   "metadata": {},
   "outputs": [
    {
     "name": "stdout",
     "output_type": "stream",
     "text": [
      "R2 Score\n"
     ]
    },
    {
     "data": {
      "text/plain": [
       "[0.96180318921813934,\n",
       " 0.87269173261817468,\n",
       " 0.95691877642995193,\n",
       " 0.94599585172900591,\n",
       " 0.98267583670663572,\n",
       " 0.86063451539468905,\n",
       " 0.91481082906327749]"
      ]
     },
     "execution_count": 183,
     "metadata": {},
     "output_type": "execute_result"
    }
   ],
   "source": [
    "print('R2 Score')\n",
    "scores"
   ]
  },
  {
   "cell_type": "code",
   "execution_count": 184,
   "metadata": {
    "collapsed": true
   },
   "outputs": [],
   "source": [
    "# Compare your MAE, MSE, RMSE and R2 values for your folds; describe anything that stands out.\n",
    "# How do your metrics respond to different feature sets?"
   ]
  },
  {
   "cell_type": "markdown",
   "metadata": {
    "collapsed": true
   },
   "source": [
    "There seems to be a lot of variability between the folds, especially looking at MSE. I think that this is largely due to the fact that some of the stores had very little sales and there were a couple of large outliers that would have a skewing effect."
   ]
  },
  {
   "cell_type": "markdown",
   "metadata": {},
   "source": [
    "Changing the features didn't have much of an impact on MSE, but I also need some more features to really tune the model most effectively.'"
   ]
  },
  {
   "cell_type": "code",
   "execution_count": 185,
   "metadata": {
    "collapsed": true
   },
   "outputs": [],
   "source": [
    "# Evaluate your coefficients and your intercept"
   ]
  },
  {
   "cell_type": "markdown",
   "metadata": {},
   "source": [
    "The coefficient for total sales makes intuitive sense because an increased dollar in q1 would roughly extrapolate to 4-5 expected more dollars for the year overall. The large negative value for Volume Sold is less logical, I think mostly because of scale."
   ]
  },
  {
   "cell_type": "markdown",
   "metadata": {},
   "source": [
    "## Test against your hold-out set\n",
    "\n",
    "Before you build your model, you set aside some of your data for testing. Your model has never trained against these data points or been evaluated agaist these points.\n",
    "\n",
    "Use **ALL** of your training data to train, then test your model against your holdout set."
   ]
  },
  {
   "cell_type": "code",
   "execution_count": 190,
   "metadata": {},
   "outputs": [],
   "source": [
    "# Pick your best set of feature columns\n",
    "features = ['TotalSales', 'BottlesSold']\n",
    "\n",
    "X_train = training_data[features]\n",
    "y_train = training_data['Target']\n",
    "\n",
    "x_holdout = holdout[features]\n",
    "y_holdout = holdout['Target']"
   ]
  },
  {
   "cell_type": "code",
   "execution_count": 191,
   "metadata": {
    "collapsed": true
   },
   "outputs": [],
   "source": [
    "lr = LinearRegression()"
   ]
  },
  {
   "cell_type": "code",
   "execution_count": 192,
   "metadata": {},
   "outputs": [
    {
     "data": {
      "text/plain": [
       "LinearRegression(copy_X=True, fit_intercept=True, n_jobs=1, normalize=False)"
      ]
     },
     "execution_count": 192,
     "metadata": {},
     "output_type": "execute_result"
    }
   ],
   "source": [
    "# Fit your model using all of your training data\n",
    "lr.fit(X_train, y_train)"
   ]
  },
  {
   "cell_type": "code",
   "execution_count": 193,
   "metadata": {
    "collapsed": true
   },
   "outputs": [],
   "source": [
    "# Create predictions using your holdout set (x_holdout)\n",
    "holdout_preds = lr.predict(x_holdout)"
   ]
  },
  {
   "cell_type": "code",
   "execution_count": 195,
   "metadata": {},
   "outputs": [],
   "source": [
    "# score your model using MAE, MSE, RMSE, and R2\n",
    "# hint: what is y_test and what is your y_true?\n",
    "\n",
    "MAE_score = mean_absolute_error(y_holdout, holdout_preds)\n",
    "MSE_score = mean_squared_error(y_holdout, holdout_preds)\n",
    "RMSE_score = np.sqrt(mean_squared_error(y_holdout, holdout_preds))\n",
    "R2_score = r2_score(y_holdout, holdout_preds)\n"
   ]
  },
  {
   "cell_type": "code",
   "execution_count": 197,
   "metadata": {},
   "outputs": [
    {
     "name": "stdout",
     "output_type": "stream",
     "text": [
      "MAE:  5245.72321958\n",
      "MSE:  103151374.951\n",
      "RMSE:  10156.3465356\n",
      "R2:  0.947055480915\n"
     ]
    }
   ],
   "source": [
    "# print your scores\n",
    "print('MAE: ',MAE_score)\n",
    "print('MSE: ',MSE_score)\n",
    "print('RMSE: ',RMSE_score)\n",
    "print('R2: ',R2_score)"
   ]
  },
  {
   "cell_type": "code",
   "execution_count": 202,
   "metadata": {},
   "outputs": [
    {
     "data": {
      "text/plain": [
       "<matplotlib.axes._subplots.AxesSubplot at 0x1a238b60b8>"
      ]
     },
     "execution_count": 202,
     "metadata": {},
     "output_type": "execute_result"
    },
    {
     "data": {
      "image/png": "[encoded data removed]",
      "text/plain": [
       "<matplotlib.figure.Figure at 0x1a238c06a0>"
      ]
     },
     "metadata": {},
     "output_type": "display_data"
    }
   ],
   "source": [
    "# Create a scatter plot of your predicted values vs. their true values\n",
    "# Describe anything you observe\n",
    "plotdata = y_holdout.to_frame('holdout')\n",
    "plotdata['predicted'] = holdout_preds\n",
    "plotdata.plot(kind='scatter',x='holdout', y='predicted')"
   ]
  },
  {
   "cell_type": "code",
   "execution_count": 203,
   "metadata": {
    "collapsed": true
   },
   "outputs": [],
   "source": [
    "# Calculate your residuals (prediction - actual)\n",
    "resids = holdout_preds - y_holdout\n",
    "plotdata['residuals'] = resids"
   ]
  },
  {
   "cell_type": "code",
   "execution_count": 204,
   "metadata": {},
   "outputs": [
    {
     "data": {
      "text/plain": [
       "<matplotlib.axes._subplots.AxesSubplot at 0x10d9f7198>"
      ]
     },
     "execution_count": 204,
     "metadata": {},
     "output_type": "execute_result"
    },
    {
     "data": {
      "image/png": "[encoded data removed]",
      "text/plain": [
       "<matplotlib.figure.Figure at 0x1a2393ac18>"
      ]
     },
     "metadata": {},
     "output_type": "display_data"
    }
   ],
   "source": [
    "# Create a histogram of your residuals. Describe anything you observe\n",
    "plotdata.residuals.plot(kind='hist')"
   ]
  },
  {
   "cell_type": "markdown",
   "metadata": {},
   "source": [
    "# Final Predictions\n",
    "\n",
    "You've created a model that predicts 2015 year end sales based on Q1 2015 data. \n",
    "\n",
    "In the data source, we have included data for Q1 of 2016. Apply your feature engineering process to the 2016 Q1 data, then use your trained 2015 model to predict the 2016 year end values for those stores.\n",
    "\n",
    "Note: you do not have the 2016 year end values to evaluate against.\n"
   ]
  },
  {
   "cell_type": "markdown",
   "metadata": {},
   "source": [
    "### Feature Engineering\n",
    "Perform the same aggregation and feature creation you used on 2015 data on the 2016 data "
   ]
  },
  {
   "cell_type": "code",
   "execution_count": null,
   "metadata": {
    "collapsed": true
   },
   "outputs": [],
   "source": [
    "# liquour[liquor.Date.dt.Year == 2016]"
   ]
  },
  {
   "cell_type": "code",
   "execution_count": 207,
   "metadata": {},
   "outputs": [],
   "source": [
    "liquor2016 = liquor[liquor.Date.dt.year == 2016]\n",
    "liquor2016_q1 = liquor2016[liquor2016.Date.dt.quarter == 1]"
   ]
  },
  {
   "cell_type": "code",
   "execution_count": 210,
   "metadata": {},
   "outputs": [],
   "source": [
    "liquor2016_store_sales = liquor2016_q1.groupby('StoreNumber').SaleDollars.sum()"
   ]
  },
  {
   "cell_type": "code",
   "execution_count": 211,
   "metadata": {
    "collapsed": true
   },
   "outputs": [],
   "source": [
    "liquor2016_bottle_volume = liquor2016_q1.groupby('StoreNumber').VolumeSoldLiters.sum()"
   ]
  },
  {
   "cell_type": "code",
   "execution_count": 212,
   "metadata": {
    "collapsed": true
   },
   "outputs": [],
   "source": [
    "liquor2016_bottles_sold = liquor2016_q1.groupby('StoreNumber').BottlesSold.sum()"
   ]
  },
  {
   "cell_type": "code",
   "execution_count": 216,
   "metadata": {
    "collapsed": true
   },
   "outputs": [],
   "source": [
    "liquor2016_features = liquor2016_store_sales.to_frame(name='TotalSales')"
   ]
  },
  {
   "cell_type": "code",
   "execution_count": 217,
   "metadata": {
    "collapsed": true
   },
   "outputs": [],
   "source": [
    "liquor2016_features['BottlesSold'] = liquor2016_bottles_sold"
   ]
  },
  {
   "cell_type": "markdown",
   "metadata": {},
   "source": [
    "### Make Predictions\n",
    "\n",
    "Once you have your 2016 features, use your trained 2015 model on the 2016 Q1 data to get your predictions for 2016\n",
    "\n",
    "Do not retrain a model on the 2016 data*"
   ]
  },
  {
   "cell_type": "code",
   "execution_count": null,
   "metadata": {
    "collapsed": true
   },
   "outputs": [],
   "source": [
    "# Make Predictions"
   ]
  },
  {
   "cell_type": "code",
   "execution_count": 219,
   "metadata": {
    "collapsed": true
   },
   "outputs": [],
   "source": [
    "pred_2016_totals = lr.predict(liquor2016_features)"
   ]
  },
  {
   "cell_type": "code",
   "execution_count": null,
   "metadata": {
    "collapsed": true
   },
   "outputs": [],
   "source": [
    "# Show your 2016 year-end prediction for each store"
   ]
  },
  {
   "cell_type": "code",
   "execution_count": 227,
   "metadata": {},
   "outputs": [],
   "source": [
    "pred_2016_df = pd.DataFrame(data = pred_2016_totals, index= liquor2016_features.index)"
   ]
  },
  {
   "cell_type": "code",
   "execution_count": 230,
   "metadata": {},
   "outputs": [],
   "source": [
    "pred_2016_df.columns = ['pred_2016_totals']"
   ]
  },
  {
   "cell_type": "code",
   "execution_count": 232,
   "metadata": {},
   "outputs": [
    {
     "data": {
      "text/html": [
       "<div>\n",
       "<style>\n",
       "    .dataframe thead tr:only-child th {\n",
       "        text-align: right;\n",
       "    }\n",
       "\n",
       "    .dataframe thead th {\n",
       "        text-align: left;\n",
       "    }\n",
       "\n",
       "    .dataframe tbody tr th {\n",
       "        vertical-align: top;\n",
       "    }\n",
       "</style>\n",
       "<table border=\"1\" class=\"dataframe\">\n",
       "  <thead>\n",
       "    <tr style=\"text-align: right;\">\n",
       "      <th></th>\n",
       "      <th>pred_2016_totals</th>\n",
       "    </tr>\n",
       "    <tr>\n",
       "      <th>StoreNumber</th>\n",
       "      <th></th>\n",
       "    </tr>\n",
       "  </thead>\n",
       "  <tbody>\n",
       "    <tr>\n",
       "      <th>2106</th>\n",
       "      <td>137722.224883</td>\n",
       "    </tr>\n",
       "    <tr>\n",
       "      <th>2113</th>\n",
       "      <td>9457.462266</td>\n",
       "    </tr>\n",
       "    <tr>\n",
       "      <th>2130</th>\n",
       "      <td>125321.643343</td>\n",
       "    </tr>\n",
       "    <tr>\n",
       "      <th>2152</th>\n",
       "      <td>4256.417978</td>\n",
       "    </tr>\n",
       "    <tr>\n",
       "      <th>2178</th>\n",
       "      <td>25481.762278</td>\n",
       "    </tr>\n",
       "    <tr>\n",
       "      <th>2190</th>\n",
       "      <td>143906.928976</td>\n",
       "    </tr>\n",
       "    <tr>\n",
       "      <th>2191</th>\n",
       "      <td>212289.180158</td>\n",
       "    </tr>\n",
       "    <tr>\n",
       "      <th>2200</th>\n",
       "      <td>18885.425433</td>\n",
       "    </tr>\n",
       "    <tr>\n",
       "      <th>2228</th>\n",
       "      <td>14056.894655</td>\n",
       "    </tr>\n",
       "    <tr>\n",
       "      <th>2233</th>\n",
       "      <td>29569.293562</td>\n",
       "    </tr>\n",
       "    <tr>\n",
       "      <th>2238</th>\n",
       "      <td>1929.037636</td>\n",
       "    </tr>\n",
       "    <tr>\n",
       "      <th>2248</th>\n",
       "      <td>62700.889598</td>\n",
       "    </tr>\n",
       "    <tr>\n",
       "      <th>2285</th>\n",
       "      <td>55081.675347</td>\n",
       "    </tr>\n",
       "    <tr>\n",
       "      <th>2290</th>\n",
       "      <td>56477.632328</td>\n",
       "    </tr>\n",
       "    <tr>\n",
       "      <th>2327</th>\n",
       "      <td>10107.804420</td>\n",
       "    </tr>\n",
       "    <tr>\n",
       "      <th>2353</th>\n",
       "      <td>11661.015865</td>\n",
       "    </tr>\n",
       "    <tr>\n",
       "      <th>2413</th>\n",
       "      <td>103419.554577</td>\n",
       "    </tr>\n",
       "    <tr>\n",
       "      <th>2445</th>\n",
       "      <td>6595.088208</td>\n",
       "    </tr>\n",
       "    <tr>\n",
       "      <th>2448</th>\n",
       "      <td>30420.318180</td>\n",
       "    </tr>\n",
       "    <tr>\n",
       "      <th>2459</th>\n",
       "      <td>8226.365695</td>\n",
       "    </tr>\n",
       "    <tr>\n",
       "      <th>2465</th>\n",
       "      <td>23874.108824</td>\n",
       "    </tr>\n",
       "    <tr>\n",
       "      <th>2475</th>\n",
       "      <td>21665.272073</td>\n",
       "    </tr>\n",
       "    <tr>\n",
       "      <th>2478</th>\n",
       "      <td>20104.783930</td>\n",
       "    </tr>\n",
       "    <tr>\n",
       "      <th>2498</th>\n",
       "      <td>3676.630204</td>\n",
       "    </tr>\n",
       "    <tr>\n",
       "      <th>2500</th>\n",
       "      <td>152382.199193</td>\n",
       "    </tr>\n",
       "    <tr>\n",
       "      <th>2501</th>\n",
       "      <td>133699.276053</td>\n",
       "    </tr>\n",
       "    <tr>\n",
       "      <th>2502</th>\n",
       "      <td>85235.141072</td>\n",
       "    </tr>\n",
       "    <tr>\n",
       "      <th>2505</th>\n",
       "      <td>66195.911622</td>\n",
       "    </tr>\n",
       "    <tr>\n",
       "      <th>2506</th>\n",
       "      <td>147778.131613</td>\n",
       "    </tr>\n",
       "    <tr>\n",
       "      <th>2507</th>\n",
       "      <td>28248.062569</td>\n",
       "    </tr>\n",
       "    <tr>\n",
       "      <th>...</th>\n",
       "      <td>...</td>\n",
       "    </tr>\n",
       "    <tr>\n",
       "      <th>5181</th>\n",
       "      <td>1192.433258</td>\n",
       "    </tr>\n",
       "    <tr>\n",
       "      <th>5182</th>\n",
       "      <td>1231.280358</td>\n",
       "    </tr>\n",
       "    <tr>\n",
       "      <th>5183</th>\n",
       "      <td>978.758843</td>\n",
       "    </tr>\n",
       "    <tr>\n",
       "      <th>5185</th>\n",
       "      <td>2425.527250</td>\n",
       "    </tr>\n",
       "    <tr>\n",
       "      <th>5186</th>\n",
       "      <td>1662.395684</td>\n",
       "    </tr>\n",
       "    <tr>\n",
       "      <th>5187</th>\n",
       "      <td>6553.117326</td>\n",
       "    </tr>\n",
       "    <tr>\n",
       "      <th>5188</th>\n",
       "      <td>3416.563965</td>\n",
       "    </tr>\n",
       "    <tr>\n",
       "      <th>5189</th>\n",
       "      <td>424.777553</td>\n",
       "    </tr>\n",
       "    <tr>\n",
       "      <th>5190</th>\n",
       "      <td>7884.666935</td>\n",
       "    </tr>\n",
       "    <tr>\n",
       "      <th>5191</th>\n",
       "      <td>880.251953</td>\n",
       "    </tr>\n",
       "    <tr>\n",
       "      <th>5192</th>\n",
       "      <td>270.507387</td>\n",
       "    </tr>\n",
       "    <tr>\n",
       "      <th>5195</th>\n",
       "      <td>534.043904</td>\n",
       "    </tr>\n",
       "    <tr>\n",
       "      <th>5196</th>\n",
       "      <td>1425.735731</td>\n",
       "    </tr>\n",
       "    <tr>\n",
       "      <th>5198</th>\n",
       "      <td>32134.008606</td>\n",
       "    </tr>\n",
       "    <tr>\n",
       "      <th>5199</th>\n",
       "      <td>14944.360551</td>\n",
       "    </tr>\n",
       "    <tr>\n",
       "      <th>5202</th>\n",
       "      <td>1960.575216</td>\n",
       "    </tr>\n",
       "    <tr>\n",
       "      <th>5203</th>\n",
       "      <td>13551.819559</td>\n",
       "    </tr>\n",
       "    <tr>\n",
       "      <th>5204</th>\n",
       "      <td>8074.908347</td>\n",
       "    </tr>\n",
       "    <tr>\n",
       "      <th>5205</th>\n",
       "      <td>1573.900593</td>\n",
       "    </tr>\n",
       "    <tr>\n",
       "      <th>5206</th>\n",
       "      <td>10226.235587</td>\n",
       "    </tr>\n",
       "    <tr>\n",
       "      <th>5207</th>\n",
       "      <td>23406.347815</td>\n",
       "    </tr>\n",
       "    <tr>\n",
       "      <th>5211</th>\n",
       "      <td>5633.295812</td>\n",
       "    </tr>\n",
       "    <tr>\n",
       "      <th>5212</th>\n",
       "      <td>3460.533882</td>\n",
       "    </tr>\n",
       "    <tr>\n",
       "      <th>5213</th>\n",
       "      <td>2267.351583</td>\n",
       "    </tr>\n",
       "    <tr>\n",
       "      <th>5215</th>\n",
       "      <td>10106.251205</td>\n",
       "    </tr>\n",
       "    <tr>\n",
       "      <th>9001</th>\n",
       "      <td>3260.503013</td>\n",
       "    </tr>\n",
       "    <tr>\n",
       "      <th>9002</th>\n",
       "      <td>6314.492156</td>\n",
       "    </tr>\n",
       "    <tr>\n",
       "      <th>9010</th>\n",
       "      <td>913.660058</td>\n",
       "    </tr>\n",
       "    <tr>\n",
       "      <th>9013</th>\n",
       "      <td>1764.467683</td>\n",
       "    </tr>\n",
       "    <tr>\n",
       "      <th>9023</th>\n",
       "      <td>2932.554976</td>\n",
       "    </tr>\n",
       "  </tbody>\n",
       "</table>\n",
       "<p>1280 rows × 1 columns</p>\n",
       "</div>"
      ],
      "text/plain": [
       "             pred_2016_totals\n",
       "StoreNumber                  \n",
       "2106            137722.224883\n",
       "2113              9457.462266\n",
       "2130            125321.643343\n",
       "2152              4256.417978\n",
       "2178             25481.762278\n",
       "2190            143906.928976\n",
       "2191            212289.180158\n",
       "2200             18885.425433\n",
       "2228             14056.894655\n",
       "2233             29569.293562\n",
       "2238              1929.037636\n",
       "2248             62700.889598\n",
       "2285             55081.675347\n",
       "2290             56477.632328\n",
       "2327             10107.804420\n",
       "2353             11661.015865\n",
       "2413            103419.554577\n",
       "2445              6595.088208\n",
       "2448             30420.318180\n",
       "2459              8226.365695\n",
       "2465             23874.108824\n",
       "2475             21665.272073\n",
       "2478             20104.783930\n",
       "2498              3676.630204\n",
       "2500            152382.199193\n",
       "2501            133699.276053\n",
       "2502             85235.141072\n",
       "2505             66195.911622\n",
       "2506            147778.131613\n",
       "2507             28248.062569\n",
       "...                       ...\n",
       "5181              1192.433258\n",
       "5182              1231.280358\n",
       "5183               978.758843\n",
       "5185              2425.527250\n",
       "5186              1662.395684\n",
       "5187              6553.117326\n",
       "5188              3416.563965\n",
       "5189               424.777553\n",
       "5190              7884.666935\n",
       "5191               880.251953\n",
       "5192               270.507387\n",
       "5195               534.043904\n",
       "5196              1425.735731\n",
       "5198             32134.008606\n",
       "5199             14944.360551\n",
       "5202              1960.575216\n",
       "5203             13551.819559\n",
       "5204              8074.908347\n",
       "5205              1573.900593\n",
       "5206             10226.235587\n",
       "5207             23406.347815\n",
       "5211              5633.295812\n",
       "5212              3460.533882\n",
       "5213              2267.351583\n",
       "5215             10106.251205\n",
       "9001              3260.503013\n",
       "9002              6314.492156\n",
       "9010               913.660058\n",
       "9013              1764.467683\n",
       "9023              2932.554976\n",
       "\n",
       "[1280 rows x 1 columns]"
      ]
     },
     "execution_count": 232,
     "metadata": {},
     "output_type": "execute_result"
    }
   ],
   "source": [
    "pred_2016_df"
   ]
  },
  {
   "cell_type": "markdown",
   "metadata": {},
   "source": [
    "# Evaluation:\n",
    "\n",
    "Do your best to answer the following questions:\n",
    "\n",
    "* What was the best set of features you found for your model?\n",
    "* Describe the relationships between your features and your target\n",
    "* How did your model perform in the training phase? Against the holdout set? \n",
    "* Did it perform better or worse against the holdout set?\n",
    "\n",
    "Finally:\n",
    "* Write a short description of your analysis, describing the process you went through and your confidence in your model's predictive ability\n",
    "* Include any data, or visualizations you feel would help support your findings"
   ]
  },
  {
   "cell_type": "markdown",
   "metadata": {
    "collapsed": true
   },
   "source": [
    "The best set of features that I was able to find were Bottles Sold and Total Sales by store. With more creative features, I'm pretty sure that my prediction would have been more accurate."
   ]
  },
  {
   "cell_type": "code",
   "execution_count": 233,
   "metadata": {},
   "outputs": [
    {
     "data": {
      "text/plain": [
       "array([ 4.37964794,  1.85841804])"
      ]
     },
     "execution_count": 233,
     "metadata": {},
     "output_type": "execute_result"
    }
   ],
   "source": [
    "lr.coef_"
   ]
  },
  {
   "cell_type": "markdown",
   "metadata": {
    "collapsed": true
   },
   "source": [
    "Given the above coefficients of my model, I would say that the relationship between my features and my target relied heavily on Total Sales for q1. The number of bottles sold in q1 also had a direct effect but only increased total sales by 1.8 for each bottle sold."
   ]
  },
  {
   "cell_type": "markdown",
   "metadata": {
    "collapsed": true
   },
   "source": [
    "My model had a pretty high R2 value but I think that a RMSE of over 10,000 could actually be pretty poor depending on the store because some stores had very low values. I would say it performed decently well in the training phase but I still had a margin of error of around 1.3 million which would be a lot for the tax board to have to tolerate."
   ]
  },
  {
   "cell_type": "markdown",
   "metadata": {},
   "source": []
  },
  {
   "cell_type": "markdown",
   "metadata": {
    "collapsed": true
   },
   "source": [
    "My process essentially consisted of creating features from aggregating by store number and using the sums of those features to predict the total sales by store. Given more time to engineer more imaginative features, I think that my model's predictive ability would improve. I also think that bringing in other data sets like census data, population data, liquor drinks per capita, etc. would make my model very robust. However, considering how simple my model is, I'm not that confident in its predictive ability."
   ]
  },
  {
   "cell_type": "code",
   "execution_count": null,
   "metadata": {
    "collapsed": true
   },
   "outputs": [],
   "source": []
  },
  {
   "cell_type": "code",
   "execution_count": null,
   "metadata": {
    "collapsed": true
   },
   "outputs": [],
   "source": []
  },
  {
   "cell_type": "markdown",
   "metadata": {},
   "source": [
    "# Bonus - Regularization & Grid Search\n",
    "\n",
    "As a bonus, experiment with the effect of Lasso (L1) and Ridge (L2) regularization on your linear model. Use GridSearch to tune your additional parameters.\n",
    "\n",
    "See [gridseach 'scoring' options](http://scikit-learn.org/stable/modules/model_evaluation.html#scoring-parameter) for a list of scoring function strings recognized by GridSeach"
   ]
  },
  {
   "cell_type": "code",
   "execution_count": null,
   "metadata": {
    "collapsed": true
   },
   "outputs": [],
   "source": [
    "from sklearn.linear_model import Lasso, Ridge\n",
    "from sklearn.grid_search import GridSearchCV"
   ]
  },
  {
   "cell_type": "code",
   "execution_count": null,
   "metadata": {
    "collapsed": true
   },
   "outputs": [],
   "source": [
    "# Instantiate models\n",
    "lr_ridge = \n",
    "lr_lasso = "
   ]
  },
  {
   "cell_type": "code",
   "execution_count": null,
   "metadata": {
    "collapsed": true
   },
   "outputs": [],
   "source": []
  },
  {
   "cell_type": "code",
   "execution_count": null,
   "metadata": {
    "collapsed": true
   },
   "outputs": [],
   "source": [
    "# Use your post-holdout training data, so you can evaluate on the holdout later\n",
    "X = \n",
    "y = "
   ]
  },
  {
   "cell_type": "markdown",
   "metadata": {},
   "source": [
    "Expirement with values of Alpha, scoring functions, and L1/L2 regulatization"
   ]
  },
  {
   "cell_type": "code",
   "execution_count": null,
   "metadata": {
    "collapsed": true
   },
   "outputs": [],
   "source": [
    "params = {'alpha':[0.2,1.0]}"
   ]
  },
  {
   "cell_type": "code",
   "execution_count": null,
   "metadata": {
    "collapsed": true
   },
   "outputs": [],
   "source": [
    "gs = GridSearchCV(<model>,params,cv=5,scoring='neg_mean_squared_error')"
   ]
  },
  {
   "cell_type": "code",
   "execution_count": null,
   "metadata": {
    "collapsed": true
   },
   "outputs": [],
   "source": [
    "# Gridsearch incorporates k-folds validation\n",
    "# You do not have to create training/testing splits\n",
    "gs.fit(X,y)"
   ]
  },
  {
   "cell_type": "code",
   "execution_count": null,
   "metadata": {
    "collapsed": true
   },
   "outputs": [],
   "source": [
    "# View all permutation scores\n",
    "gs.grid_scores_"
   ]
  },
  {
   "cell_type": "code",
   "execution_count": null,
   "metadata": {
    "collapsed": true
   },
   "outputs": [],
   "source": [
    "# use the best set of parameters\n",
    "lr_best = gs.best_estimator_"
   ]
  },
  {
   "cell_type": "code",
   "execution_count": null,
   "metadata": {
    "collapsed": true
   },
   "outputs": [],
   "source": [
    "# try the best estimator on your holdout set"
   ]
  },
  {
   "cell_type": "code",
   "execution_count": null,
   "metadata": {
    "collapsed": true
   },
   "outputs": [],
   "source": []
  },
  {
   "cell_type": "code",
   "execution_count": null,
   "metadata": {
    "collapsed": true
   },
   "outputs": [],
   "source": []
  },
  {
   "cell_type": "code",
   "execution_count": null,
   "metadata": {
    "collapsed": true
   },
   "outputs": [],
   "source": []
  },
  {
   "cell_type": "code",
   "execution_count": null,
   "metadata": {
    "collapsed": true
   },
   "outputs": [],
   "source": []
  },
  {
   "cell_type": "markdown",
   "metadata": {},
   "source": [
    "## Evaluation:\n",
    "\n",
    "Did regularization improve your model? What was the impact of regularization on your features? Did regularization make any features stand out?"
   ]
  },
  {
   "cell_type": "code",
   "execution_count": null,
   "metadata": {
    "collapsed": true
   },
   "outputs": [],
   "source": []
  },
  {
   "cell_type": "code",
   "execution_count": null,
   "metadata": {
    "collapsed": true
   },
   "outputs": [],
   "source": []
  },
  {
   "cell_type": "code",
   "execution_count": null,
   "metadata": {
    "collapsed": true
   },
   "outputs": [],
   "source": []
  },
  {
   "cell_type": "code",
   "execution_count": null,
   "metadata": {
    "collapsed": true
   },
   "outputs": [],
   "source": []
  },
  {
   "cell_type": "code",
   "execution_count": null,
   "metadata": {
    "collapsed": true
   },
   "outputs": [],
   "source": []
  },
  {
   "cell_type": "code",
   "execution_count": null,
   "metadata": {
    "collapsed": true
   },
   "outputs": [],
   "source": []
  }
 ],
 "metadata": {
  "anaconda-cloud": {},
  "kernelspec": {
   "display_name": "Python 3",
   "language": "python",
   "name": "python3"
  },
  "language_info": {
   "codemirror_mode": {
    "name": "ipython",
    "version": 3
   },
   "file_extension": ".py",
   "mimetype": "text/x-python",
   "name": "python",
   "nbconvert_exporter": "python",
   "pygments_lexer": "ipython3",
   "version": "3.6.2"
  }
 },
 "nbformat": 4,
 "nbformat_minor": 1
}
